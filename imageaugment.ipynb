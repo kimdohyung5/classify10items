{
 "cells": [
  {
   "cell_type": "markdown",
   "metadata": {},
   "source": [
    "# 1. Image Augmentation 에 필요한 함수 정의하기"
   ]
  },
  {
   "cell_type": "code",
   "execution_count": 8,
   "metadata": {},
   "outputs": [],
   "source": [
    "import os\n",
    "import glob\n",
    "import matplotlib.pyplot as plt\n",
    "import numpy as np\n",
    "import imgaug as ia\n",
    "import imgaug.augmenters as iaa\n",
    "from PIL import Image\n",
    "import datetime \n",
    "import math\n",
    "import shutil"
   ]
  },
  {
   "cell_type": "code",
   "execution_count": 22,
   "metadata": {},
   "outputs": [],
   "source": [
    "def makeSampleImages(localfile, target_dir, looping_count):\n",
    "    #print(\"localfile\", localfile)\n",
    "    #print(\"target_dir\", target_dir)\n",
    "    # 참고 사이트 \n",
    "    # https://github.com/aleju/imgaug\n",
    "    sometimes = lambda aug: iaa.Sometimes(0.5, aug)\n",
    "\n",
    "    # Define our sequence of augmentation steps that will be applied to every image\n",
    "    # All augmenters with per_channel=0.5 will sample one value _per image_\n",
    "    # in 50% of all cases. In all other cases they will sample new values\n",
    "    # _per channel_.\n",
    "    seq = iaa.Sequential(\n",
    "        [\n",
    "            # apply the following augmenters to most images\n",
    "            iaa.Fliplr(0.5), # horizontally flip 50% of all images\n",
    "            iaa.Flipud(0.2), # vertically flip 20% of all images\n",
    "            # crop images by -5% to 10% of their height/width\n",
    "            sometimes(iaa.CropAndPad(\n",
    "                percent=(-0.05, 0.1),\n",
    "                pad_mode=ia.ALL,\n",
    "                pad_cval=(0, 255)\n",
    "            )),\n",
    "            sometimes(iaa.Affine(\n",
    "                scale={\"x\": (0.8, 1.2), \"y\": (0.8, 1.2)}, # scale images to 80-120% of their size, individually per axis\n",
    "                translate_percent={\"x\": (-0.2, 0.2), \"y\": (-0.2, 0.2)}, # translate by -20 to +20 percent (per axis)\n",
    "                rotate=(-45, 45), # rotate by -45 to +45 degrees\n",
    "                shear=(-16, 16), # shear by -16 to +16 degrees\n",
    "                order=[0, 1], # use nearest neighbour or bilinear interpolation (fast)\n",
    "                cval=(0, 255), # if mode is constant, use a cval between 0 and 255\n",
    "                mode=ia.ALL # use any of scikit-image's warping modes (see 2nd image from the top for examples)\n",
    "            )),\n",
    "            # execute 0 to 5 of the following (less important) augmenters per image\n",
    "            # don't execute all of them, as that would often be way too strong\n",
    "            iaa.SomeOf((0, 5),\n",
    "                [\n",
    "                    sometimes(iaa.Superpixels(p_replace=(0, 1.0), n_segments=(20, 200))), # convert images into their superpixel representation\n",
    "                    iaa.OneOf([\n",
    "                        iaa.GaussianBlur((0, 3.0)), # blur images with a sigma between 0 and 3.0\n",
    "                        iaa.AverageBlur(k=(2, 7)), # blur image using local means with kernel sizes between 2 and 7\n",
    "                        iaa.MedianBlur(k=(3, 11)), # blur image using local medians with kernel sizes between 2 and 7\n",
    "                    ]),\n",
    "                    iaa.Sharpen(alpha=(0, 1.0), lightness=(0.75, 1.5)), # sharpen images\n",
    "                    iaa.Emboss(alpha=(0, 1.0), strength=(0, 2.0)), # emboss images\n",
    "                    # search either for all edges or for directed edges,\n",
    "                    # blend the result with the original image using a blobby mask\n",
    "                    iaa.SimplexNoiseAlpha(iaa.OneOf([\n",
    "                        iaa.EdgeDetect(alpha=(0.5, 1.0)),\n",
    "                        iaa.DirectedEdgeDetect(alpha=(0.5, 1.0), direction=(0.0, 1.0)),\n",
    "                    ])),\n",
    "                    iaa.AdditiveGaussianNoise(loc=0, scale=(0.0, 0.05*255), per_channel=0.5), # add gaussian noise to images\n",
    "                    iaa.OneOf([\n",
    "                        iaa.Dropout((0.01, 0.1), per_channel=0.5), # randomly remove up to 10% of the pixels\n",
    "                        iaa.CoarseDropout((0.03, 0.15), size_percent=(0.02, 0.05), per_channel=0.2),\n",
    "                    ]),\n",
    "                    iaa.Invert(0.05, per_channel=True), # invert color channels\n",
    "                    iaa.Add((-10, 10), per_channel=0.5), # change brightness of images (by -10 to 10 of original value)\n",
    "                    iaa.AddToHueAndSaturation((-20, 20)), # change hue and saturation\n",
    "                    # either change the brightness of the whole image (sometimes\n",
    "                    # per channel) or change the brightness of subareas\n",
    "                    iaa.OneOf([\n",
    "                        iaa.Multiply((0.5, 1.5), per_channel=0.5),\n",
    "                        iaa.FrequencyNoiseAlpha(\n",
    "                            exponent=(-4, 0),\n",
    "                            first=iaa.Multiply((0.5, 1.5), per_channel=True),\n",
    "                            second=iaa.ContrastNormalization((0.5, 2.0))\n",
    "                        )\n",
    "                    ]),\n",
    "                    iaa.ContrastNormalization((0.5, 2.0), per_channel=0.5), # improve or worsen the contrast\n",
    "                    iaa.Grayscale(alpha=(0.0, 1.0)),\n",
    "                    sometimes(iaa.ElasticTransformation(alpha=(0.5, 3.5), sigma=0.25)), # move pixels locally around (with random strengths)\n",
    "                    sometimes(iaa.PiecewiseAffine(scale=(0.01, 0.05))), # sometimes move parts of the image around\n",
    "                    sometimes(iaa.PerspectiveTransform(scale=(0.01, 0.1)))\n",
    "                ],\n",
    "                random_order=True\n",
    "            )\n",
    "        ],\n",
    "        random_order=True\n",
    "    )    \n",
    "\n",
    "    # 1. 먼저 데이터불러와서 만들어주기. : arrimages --> sourceimages\n",
    "    arrimages = []        \n",
    "    img = Image.open(localfile)\n",
    "    npimage = np.array(img)            \n",
    "    arrimages.append( npimage )        \n",
    "        \n",
    "    if not os.path.exists( target_dir ) :\n",
    "        os.makedirs(target_dir)\n",
    "    \n",
    "    sourceimages = np.array(arrimages).reshape(-1, *arrimages[0].shape )    \n",
    "\n",
    "    # 2. 변환된 데이터를 지정된 폴더에 저장하기.    \n",
    "    prefix = datetime.datetime.now().strftime('%m%d%H%M%S')\n",
    "    #shutil.copy( localfile, target_dir + \"/{}_{}.jpg\".format(prefix, 0 ) )\n",
    "    for rowindex in range(looping_count):\n",
    "        images_aug = seq.augment_images( sourceimages )                \n",
    "        Image.fromarray( images_aug[0] ).save(target_dir + \"/{}_{}.jpg\".format(prefix, rowindex + 1))"
   ]
  },
  {
   "cell_type": "code",
   "execution_count": 23,
   "metadata": {},
   "outputs": [],
   "source": [
    "arrTarget = ['ant','bear','bee','cat','dog','horse','lion','monkey','pig','spider']"
   ]
  },
  {
   "cell_type": "markdown",
   "metadata": {},
   "source": [
    "# 2. 필요한 만큼 데이터를 늘리기"
   ]
  },
  {
   "cell_type": "code",
   "execution_count": 42,
   "metadata": {},
   "outputs": [
    {
     "ename": "SyntaxError",
     "evalue": "'return' outside function (<ipython-input-42-c796e1573db5>, line 9)",
     "output_type": "error",
     "traceback": [
      "\u001b[1;36m  File \u001b[1;32m\"<ipython-input-42-c796e1573db5>\"\u001b[1;36m, line \u001b[1;32m9\u001b[0m\n\u001b[1;33m    return\u001b[0m\n\u001b[1;37m    ^\u001b[0m\n\u001b[1;31mSyntaxError\u001b[0m\u001b[1;31m:\u001b[0m 'return' outside function\n"
     ]
    }
   ],
   "source": [
    "#makeSampleImages( 'C:/Users/10008000/__ImageProcess/images/original/ant/00000000.jpg' , \n",
    "#'C:/Users/10008000/__ImageProcess/images/target' + \"/\" + 'ttt' , 3)\n",
    "rootfolder = 'C:/Users/10008000/__ImageProcess/images'\n",
    "ORIGINAL = \"original\"\n",
    "TARGET = \"dataaug\"\n",
    "AUGCOUNT = 2\n",
    "\n",
    "for item in arrTarget:\n",
    "    \n",
    "    localfiles = glob.glob(\"{}/{}/{}/*.jpg\".format( rootfolder, ORIGINAL, item) )\n",
    "    targetfolder = \"{}/{}/{}\".format( rootfolder, TARGET, item )\n",
    "    os.makedirs( targetfolder )\n",
    "    \n",
    "    \n",
    "    for localfile in localfiles:\n",
    "        shutil.copy( localfile, targetfolder  )        \n",
    "        \n",
    "    for localfile in localfiles:\n",
    "        print(\"localfile\", localfile)\n",
    "        try:\n",
    "            makeSampleImages( localfile , \n",
    "                             targetfolder , AUGCOUNT)\n",
    "        except Exception as e:\n",
    "            print( e )\n",
    "        #print(\"localfile\", localfile)\n",
    "    \n"
   ]
  },
  {
   "cell_type": "markdown",
   "metadata": {},
   "source": [
    "# 3. 만들어진 이미지 폴더 확인하기"
   ]
  },
  {
   "cell_type": "code",
   "execution_count": 30,
   "metadata": {},
   "outputs": [],
   "source": [
    "def plotCurrentFolderImages(targetfolder, cols):    \n",
    "    files = glob.glob( os.path.join( targetfolder, \"*.jpg\") )   \n",
    "    maxcount = len(files)\n",
    "    \n",
    "    #maxcount = 20\n",
    "    #cols = 4\n",
    "    rows = math.ceil( maxcount / cols )\n",
    "    fig, axs = plt.subplots(rows, cols, figsize=(24 * 0.2 ,5 * rows * 0.2 ) , gridspec_kw = {'wspace':0, 'hspace':0} )\n",
    "    #fig.tight_layout(pad = 0)\n",
    "    for row in range(rows):\n",
    "        for col in range(cols):\n",
    "            nLocal = row * cols + col        \n",
    "            axs[row, col].set( xticks=[], yticks=[], aspect=1)\n",
    "            axs[row, col].tick_params(labelbottom=False, labelleft=False)\n",
    "            if nLocal >= maxcount:\n",
    "                continue                \n",
    "            axs[row, col].imshow( Image.open( files[nLocal]) )"
   ]
  },
  {
   "cell_type": "code",
   "execution_count": 43,
   "metadata": {},
   "outputs": [],
   "source": [
    "#plotCurrentFolderImages('C:/Users/10008000/__ImageProcess/images/dataaug/cat', 4)"
   ]
  },
  {
   "cell_type": "markdown",
   "metadata": {},
   "source": [
    "# 4. 만들어진 이미지 데이터를 기준으로 Data Split하기"
   ]
  },
  {
   "cell_type": "code",
   "execution_count": 41,
   "metadata": {},
   "outputs": [
    {
     "name": "stdout",
     "output_type": "stream",
     "text": [
      "datasplit is done....\n"
     ]
    }
   ],
   "source": [
    "def datasplit():\n",
    "    originPath = 'C:/Users/10008000/__ImageProcess/images/dataaug'\n",
    "    targetPath = 'C:/Users/10008000/__ImageProcess/images/fortrain'\n",
    "\n",
    "    train_ratio = 0.8\n",
    "    val_ratio = 0.1\n",
    "    #test_ratio = 1 - train_ratio - val_ratio\n",
    "\n",
    "    arrayOriginPaths = []\n",
    "\n",
    "    globOriginPath = glob.glob( os.path.join( originPath, \"*\" ) )\n",
    "    for item in globOriginPath:\n",
    "        if os.path.isdir( item ):\n",
    "            localDict = {}\n",
    "            localDict[ \"path\" ] = item\n",
    "            #print(\"item\", item)\n",
    "            localDict[ \"data\" ] = []\n",
    "            arrayOriginPaths.append( localDict )            \n",
    "            for jpgfile in glob.glob(os.path.join( item, \"*.jpg\")) :\n",
    "                if os.path.isfile( jpgfile) :\n",
    "                    localDict[ \"data\" ].append( jpgfile )\n",
    "                    #print(\"jpgfile\", jpgfile)\n",
    "                    \n",
    "    #return\n",
    "#     for item in arrayOriginPaths:\n",
    "#         print(\"item.path\", item[\"path\"])\n",
    "#         for jpgfile in item[\"data\"]:\n",
    "#             print(\"jpgfile\", jpgfile)\n",
    "    \n",
    "    # 0.8, 0.1, 0.1\n",
    "    # train = len * 0.8\n",
    "    # val = len * 0.1\n",
    "    # test = len * 0.1 \n",
    "    trainPath = os.path.join(targetPath, \"train\")\n",
    "    valPath = os.path.join(targetPath, \"val\")\n",
    "    testPath = os.path.join(targetPath, \"test\")\n",
    "\n",
    "    #print(\"trainPath\", trainPath)\n",
    "    if not os.path.exists( trainPath ): os.makedirs( trainPath )\n",
    "    if not os.path.exists( valPath ): os.makedirs( valPath )\n",
    "    if not os.path.exists( testPath ): os.makedirs( testPath )\n",
    "\n",
    "    for item in arrayOriginPaths:\n",
    "        #print(\"item.path\", item[\"path\"])\n",
    "        trainLocalP = item[\"path\"].replace( originPath, trainPath )\n",
    "        valLocalP = item[\"path\"].replace( originPath, valPath )\n",
    "        testLocalP = item[\"path\"].replace( originPath, testPath )\n",
    "        \n",
    "        #print(\"trainLocalP\", trainLocalP)\n",
    "        if not os.path.exists( trainLocalP ): os.makedirs( trainLocalP )\n",
    "        if not os.path.exists( valLocalP ): os.makedirs( valLocalP )\n",
    "        if not os.path.exists( testLocalP ): os.makedirs( testLocalP )\n",
    "\n",
    "        \n",
    "\n",
    "        #print(len( item[\"data\"]) )\n",
    "        itemlen = len( item[\"data\"] )\n",
    "        indextable = np.random.permutation(itemlen)\n",
    "        train_max = math.floor( itemlen * train_ratio )\n",
    "        val_max = math.floor( itemlen * (train_ratio + val_ratio) )\n",
    "        #print(\"indextable\", indextable)\n",
    "        #print(\"train_max={}, val_max={}\".format(train_max, val_max) )\n",
    "        # train data process\n",
    "        #print(\"move to train\", \"-------------\" * 10)\n",
    "\n",
    "        for ind in range(0, train_max):\n",
    "            fileOriginalPath = item[\"data\"][ indextable[ind] ]\n",
    "            finalTargetPath = fileOriginalPath.replace( originPath, trainPath)\n",
    "            #print(\"finalOriginalPath={}, to finalTargetPath={}\".format( fileOriginalPath, finalTargetPath) )\n",
    "            shutil.copy(fileOriginalPath, finalTargetPath)\n",
    "            #shutil.move(fileOriginalPath, finalTargetPath)\n",
    "\n",
    "        #print(\"move to val\", \"-------------\" * 10)\n",
    "        # val data process\n",
    "        for ind in range(train_max, val_max):\n",
    "            fileOriginalPath = item[\"data\"][ indextable[ind] ]\n",
    "            finalTargetPath = fileOriginalPath.replace( originPath, valPath)\n",
    "            #print(\"finalOriginalPath={}, to finalTargetPath={}\".format( fileOriginalPath, finalTargetPath) )\n",
    "            shutil.copy(fileOriginalPath, finalTargetPath)\n",
    "            #shutil.move(fileOriginalPath, finalTargetPath)\n",
    "\n",
    "\n",
    "        #print(\"move to test\", \"-------------\" * 10)\n",
    "        # test data process \n",
    "        for ind in range(val_max, itemlen):\n",
    "            fileOriginalPath = item[\"data\"][ indextable[ind] ]\n",
    "            finalTargetPath = fileOriginalPath.replace( originPath, testPath)\n",
    "            #print(\"finalOriginalPath={}, to finalTargetPath={}\".format( fileOriginalPath, finalTargetPath) )\n",
    "            shutil.copy(fileOriginalPath, finalTargetPath)\n",
    "            #shutil.move(fileOriginalPath, finalTargetPath)\n",
    "\n",
    "\n",
    "    print(\"datasplit is done....\")\n",
    "    \n",
    "datasplit()"
   ]
  },
  {
   "cell_type": "markdown",
   "metadata": {},
   "source": [
    "# 5. Split된 이미지 폴더확인하기"
   ]
  },
  {
   "cell_type": "code",
   "execution_count": 44,
   "metadata": {},
   "outputs": [
    {
     "name": "stdout",
     "output_type": "stream",
     "text": [
      "val 이미지폴더 보기\n"
     ]
    }
   ],
   "source": [
    "print(\"val 이미지폴더 보기\")\n",
    "#plotCurrentFolderImages('C:/Users/10008000/__ImageProcess/images/fortrain/train/ant', 4)"
   ]
  }
 ],
 "metadata": {
  "kernelspec": {
   "display_name": "Python 3",
   "language": "python",
   "name": "python3"
  },
  "language_info": {
   "codemirror_mode": {
    "name": "ipython",
    "version": 3
   },
   "file_extension": ".py",
   "mimetype": "text/x-python",
   "name": "python",
   "nbconvert_exporter": "python",
   "pygments_lexer": "ipython3",
   "version": "3.7.2"
  }
 },
 "nbformat": 4,
 "nbformat_minor": 2
}
