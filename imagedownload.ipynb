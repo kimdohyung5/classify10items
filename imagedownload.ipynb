{
 "cells": [
  {
   "cell_type": "code",
   "execution_count": 10,
   "metadata": {},
   "outputs": [],
   "source": [
    "import argparse\n",
    "import requests\n",
    "import os"
   ]
  },
  {
   "cell_type": "code",
   "execution_count": 27,
   "metadata": {},
   "outputs": [
    {
     "name": "stdout",
     "output_type": "stream",
     "text": [
      "args.url ./images/url_spider.txt\n",
      "args.output ./images/spider\n"
     ]
    }
   ],
   "source": [
    "# construct the argument parse and parse the arguments\n",
    "ap = argparse.ArgumentParser()\n",
    "args = ap.parse_args(\"\")\n",
    "#targetname = \"ant\"\n",
    "#targetname = \"bear\"\n",
    "#targetname = \"bee\"\n",
    "targetname = \"cat\"\n",
    "targetname = \"dog\"\n",
    "targetname = \"horse\"\n",
    "targetname = \"lion\"\n",
    "targetname = \"monkey\"\n",
    "targetname = \"pig\"\n",
    "targetname = \"spider\"\n",
    "args.url = \"./images/url_{}.txt\".format(targetname)\n",
    "args.output = \"./images/{}\".format(targetname)\n",
    "\n",
    "print(\"args.url\", args.url) \n",
    "print(\"args.output\", args.output) \n",
    "\n",
    "rows = open(args.url).read().strip().split(\"\\n\")\n",
    "total = 0\n",
    "\n",
    "# 참조 사이트\n",
    "# https://www.pyimagesearch.com/2017/12/04/how-to-create-a-deep-learning-dataset-using-google-images/\n"
   ]
  },
  {
   "cell_type": "code",
   "execution_count": 29,
   "metadata": {},
   "outputs": [
    {
     "name": "stdout",
     "output_type": "stream",
     "text": [
      "finished...\n"
     ]
    }
   ],
   "source": [
    "# loop the URLs\n",
    "for url in rows:    \n",
    "    try:\n",
    "        p=\"dummy\"\n",
    "        # try to download the image\n",
    "        r = requests.get(url,verify=False, timeout=60) \n",
    "        # save the image to disk\n",
    "        p = os.path.sep.join([args.output, \"{}.jpg\".format( str(total).zfill(8))])\n",
    "        #print(\"p\", p)\n",
    "        f = open(p, \"wb\")\n",
    "        f.write(r.content)\n",
    "        f.close()\n",
    "        # update the counter\n",
    "        print(\"[INFO] downloaded: {}\".format(p))\n",
    "        total += 1\n",
    "    # handle if any exceptions are thrown during the download process\n",
    "    except:\n",
    "        print(\"[INFO] error downloading {} from {}...skipping\".format(p, url))\n",
    "        \n",
    "print(\"finished...\")        \n"
   ]
  }
 ],
 "metadata": {
  "kernelspec": {
   "display_name": "Python 3",
   "language": "python",
   "name": "python3"
  },
  "language_info": {
   "codemirror_mode": {
    "name": "ipython",
    "version": 3
   },
   "file_extension": ".py",
   "mimetype": "text/x-python",
   "name": "python",
   "nbconvert_exporter": "python",
   "pygments_lexer": "ipython3",
   "version": "3.7.2"
  }
 },
 "nbformat": 4,
 "nbformat_minor": 2
}
